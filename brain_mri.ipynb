{
 "cells": [
  {
   "cell_type": "code",
   "execution_count": 1,
   "metadata": {},
   "outputs": [],
   "source": [
    "import zipfile\n",
    "from zipfile import ZipFile\n",
    "import os \n",
    "import io\n",
    "import cv2\n",
    "import random\n",
    "import matplotlib.pyplot as plt"
   ]
  },
  {
   "cell_type": "code",
   "execution_count": 2,
   "metadata": {},
   "outputs": [],
   "source": [
    "zip_file=zipfile.ZipFile(\"D:\\data\\mri2.Zip\")\n",
    "zip_file.extractall()"
   ]
  },
  {
   "cell_type": "code",
   "execution_count": 5,
   "metadata": {},
   "outputs": [],
   "source": [
    "root_dir = 'D:/data/dataset/'"
   ]
  },
  {
   "attachments": {},
   "cell_type": "markdown",
   "metadata": {},
   "source": [
    "#### 데이터 준비 및 전처리"
   ]
  },
  {
   "attachments": {},
   "cell_type": "markdown",
   "metadata": {},
   "source": [
    "##### 이미지 예시 출력"
   ]
  },
  {
   "cell_type": "code",
   "execution_count": 6,
   "metadata": {},
   "outputs": [
    {
     "ename": "FileNotFoundError",
     "evalue": "[WinError 3] 지정된 경로를 찾을 수 없습니다: 'D:/data/dataset/train\\\\yes'",
     "output_type": "error",
     "traceback": [
      "\u001b[1;31m---------------------------------------------------------------------------\u001b[0m",
      "\u001b[1;31mFileNotFoundError\u001b[0m                         Traceback (most recent call last)",
      "\u001b[1;32md:\\bbb\\포트폴리오\\brain_mri.ipynb Cell 6\u001b[0m in \u001b[0;36m<cell line: 4>\u001b[1;34m()\u001b[0m\n\u001b[0;32m      <a href='vscode-notebook-cell:/d%3A/bbb/%ED%8F%AC%ED%8A%B8%ED%8F%B4%EB%A6%AC%EC%98%A4/brain_mri.ipynb#W5sZmlsZQ%3D%3D?line=0'>1</a>\u001b[0m \u001b[39m# Train data의 뇌종양 데이터 랜덤하게 5개 확인하기 \u001b[39;00m\n\u001b[0;32m      <a href='vscode-notebook-cell:/d%3A/bbb/%ED%8F%AC%ED%8A%B8%ED%8F%B4%EB%A6%AC%EC%98%A4/brain_mri.ipynb#W5sZmlsZQ%3D%3D?line=1'>2</a>\u001b[0m covid_train_path \u001b[39m=\u001b[39m os\u001b[39m.\u001b[39mpath\u001b[39m.\u001b[39mjoin(root_dir, \u001b[39m'\u001b[39m\u001b[39mtrain\u001b[39m\u001b[39m'\u001b[39m, \u001b[39m'\u001b[39m\u001b[39myes\u001b[39m\u001b[39m'\u001b[39m)\n\u001b[1;32m----> <a href='vscode-notebook-cell:/d%3A/bbb/%ED%8F%AC%ED%8A%B8%ED%8F%B4%EB%A6%AC%EC%98%A4/brain_mri.ipynb#W5sZmlsZQ%3D%3D?line=3'>4</a>\u001b[0m covid_files  \u001b[39m=\u001b[39m [os\u001b[39m.\u001b[39mpath\u001b[39m.\u001b[39mjoin(covid_train_path, x) \u001b[39mfor\u001b[39;00m x \u001b[39min\u001b[39;00m os\u001b[39m.\u001b[39;49mlistdir(covid_train_path)]\n\u001b[0;32m      <a href='vscode-notebook-cell:/d%3A/bbb/%ED%8F%AC%ED%8A%B8%ED%8F%B4%EB%A6%AC%EC%98%A4/brain_mri.ipynb#W5sZmlsZQ%3D%3D?line=4'>5</a>\u001b[0m covid_images \u001b[39m=\u001b[39m [cv2\u001b[39m.\u001b[39mimread(x) \u001b[39mfor\u001b[39;00m x \u001b[39min\u001b[39;00m random\u001b[39m.\u001b[39msample(covid_files, \u001b[39m5\u001b[39m)]\n\u001b[0;32m      <a href='vscode-notebook-cell:/d%3A/bbb/%ED%8F%AC%ED%8A%B8%ED%8F%B4%EB%A6%AC%EC%98%A4/brain_mri.ipynb#W5sZmlsZQ%3D%3D?line=6'>7</a>\u001b[0m plt\u001b[39m.\u001b[39mfigure(figsize\u001b[39m=\u001b[39m(\u001b[39m20\u001b[39m,\u001b[39m10\u001b[39m))\n",
      "\u001b[1;31mFileNotFoundError\u001b[0m: [WinError 3] 지정된 경로를 찾을 수 없습니다: 'D:/data/dataset/train\\\\yes'"
     ]
    }
   ],
   "source": [
    "# Train data의 뇌종양 데이터 랜덤하게 5개 확인하기 \n",
    "covid_train_path = os.path.join(root_dir, 'train', 'yes')\n",
    "\n",
    "covid_files  = [os.path.join(covid_train_path, x) for x in os.listdir(covid_train_path)]\n",
    "covid_images = [cv2.imread(x) for x in random.sample(covid_files, 5)]\n",
    "\n",
    "plt.figure(figsize=(20,10))\n",
    "columns = 5\n",
    "for i, image in enumerate(covid_images):\n",
    "    # plt.subplot(len(covid_images) / columns + 1, columns, i + 1)\n",
    "    plt.subplot(int(len(covid_images) / columns + 1), columns, i + 1)\n",
    "\n",
    "    plt.imshow(image)"
   ]
  },
  {
   "cell_type": "code",
   "execution_count": null,
   "metadata": {},
   "outputs": [],
   "source": [
    "# Train data의 정상 데이터 랜덤하게 5개 확인하기\n",
    "covid_train_path = os.path.join(root_dir, 'train', 'no')\n",
    "\n",
    "covid_files  = [os.path.join(covid_train_path, x) for x in os.listdir(covid_train_path)]\n",
    "covid_images = [cv2.imread(x) for x in random.sample(covid_files, 5)]\n",
    "\n",
    "plt.figure(figsize=(20,10))\n",
    "columns = 5\n",
    "for i, image in enumerate(covid_images):\n",
    "    plt.subplot(int(len(covid_images) / columns + 1), columns, i + 1)\n",
    "    plt.imshow(image)"
   ]
  },
  {
   "attachments": {},
   "cell_type": "markdown",
   "metadata": {},
   "source": [
    "#### 데이터 분포 확인"
   ]
  },
  {
   "cell_type": "code",
   "execution_count": 31,
   "metadata": {},
   "outputs": [],
   "source": [
    "def print_files_in_dir(root_dir, prefix):\n",
    "    files = os.listdir(root_dir)\n",
    "    lab = ['yes', 'no']\n",
    "    for i, file in enumerate(files):\n",
    "        path = os.path.join(root_dir, file)\n",
    "        file_list = os.listdir(path)\n",
    "        print(f\"{prefix} 데이터의 {lab[i]} 수: {len(file_list)}\")\n",
    "    \n",
    "        # print(f\"해당 폴더의 데이터의 수 {len(file_list)}\")"
   ]
  },
  {
   "cell_type": "code",
   "execution_count": 32,
   "metadata": {},
   "outputs": [
    {
     "ename": "FileNotFoundError",
     "evalue": "[WinError 3] 지정된 경로를 찾을 수 없습니다: 'D:\\\\data\\\\dataset\\\\train'",
     "output_type": "error",
     "traceback": [
      "\u001b[1;31m---------------------------------------------------------------------------\u001b[0m",
      "\u001b[1;31mFileNotFoundError\u001b[0m                         Traceback (most recent call last)",
      "\u001b[1;32md:\\bbb\\포트폴리오\\brain_mri.ipynb Cell 10\u001b[0m in \u001b[0;36m<cell line: 2>\u001b[1;34m()\u001b[0m\n\u001b[0;32m      <a href='vscode-notebook-cell:/d%3A/bbb/%ED%8F%AC%ED%8A%B8%ED%8F%B4%EB%A6%AC%EC%98%A4/brain_mri.ipynb#X15sZmlsZQ%3D%3D?line=0'>1</a>\u001b[0m phase \u001b[39m=\u001b[39m \u001b[39m\"\u001b[39m\u001b[39mtrain\u001b[39m\u001b[39m\"\u001b[39m\n\u001b[1;32m----> <a href='vscode-notebook-cell:/d%3A/bbb/%ED%8F%AC%ED%8A%B8%ED%8F%B4%EB%A6%AC%EC%98%A4/brain_mri.ipynb#X15sZmlsZQ%3D%3D?line=1'>2</a>\u001b[0m print_files_in_dir(root_dir \u001b[39m+\u001b[39;49m \u001b[39mf\u001b[39;49m\u001b[39m\"\u001b[39;49m\u001b[39m{\u001b[39;49;00mphase\u001b[39m}\u001b[39;49;00m\u001b[39m\"\u001b[39;49m, phase)\n\u001b[0;32m      <a href='vscode-notebook-cell:/d%3A/bbb/%ED%8F%AC%ED%8A%B8%ED%8F%B4%EB%A6%AC%EC%98%A4/brain_mri.ipynb#X15sZmlsZQ%3D%3D?line=2'>3</a>\u001b[0m \u001b[39mprint\u001b[39m()\n\u001b[0;32m      <a href='vscode-notebook-cell:/d%3A/bbb/%ED%8F%AC%ED%8A%B8%ED%8F%B4%EB%A6%AC%EC%98%A4/brain_mri.ipynb#X15sZmlsZQ%3D%3D?line=3'>4</a>\u001b[0m phase \u001b[39m=\u001b[39m \u001b[39m\"\u001b[39m\u001b[39mvalid\u001b[39m\u001b[39m\"\u001b[39m\n",
      "\u001b[1;32md:\\bbb\\포트폴리오\\brain_mri.ipynb Cell 10\u001b[0m in \u001b[0;36mprint_files_in_dir\u001b[1;34m(root_dir, prefix)\u001b[0m\n\u001b[0;32m      <a href='vscode-notebook-cell:/d%3A/bbb/%ED%8F%AC%ED%8A%B8%ED%8F%B4%EB%A6%AC%EC%98%A4/brain_mri.ipynb#X15sZmlsZQ%3D%3D?line=0'>1</a>\u001b[0m \u001b[39mdef\u001b[39;00m \u001b[39mprint_files_in_dir\u001b[39m(root_dir, prefix):\n\u001b[1;32m----> <a href='vscode-notebook-cell:/d%3A/bbb/%ED%8F%AC%ED%8A%B8%ED%8F%B4%EB%A6%AC%EC%98%A4/brain_mri.ipynb#X15sZmlsZQ%3D%3D?line=1'>2</a>\u001b[0m     files \u001b[39m=\u001b[39m os\u001b[39m.\u001b[39;49mlistdir(root_dir)\n\u001b[0;32m      <a href='vscode-notebook-cell:/d%3A/bbb/%ED%8F%AC%ED%8A%B8%ED%8F%B4%EB%A6%AC%EC%98%A4/brain_mri.ipynb#X15sZmlsZQ%3D%3D?line=2'>3</a>\u001b[0m     lab \u001b[39m=\u001b[39m [\u001b[39m'\u001b[39m\u001b[39myes\u001b[39m\u001b[39m'\u001b[39m, \u001b[39m'\u001b[39m\u001b[39mno\u001b[39m\u001b[39m'\u001b[39m]\n\u001b[0;32m      <a href='vscode-notebook-cell:/d%3A/bbb/%ED%8F%AC%ED%8A%B8%ED%8F%B4%EB%A6%AC%EC%98%A4/brain_mri.ipynb#X15sZmlsZQ%3D%3D?line=3'>4</a>\u001b[0m     \u001b[39mfor\u001b[39;00m i, file \u001b[39min\u001b[39;00m \u001b[39menumerate\u001b[39m(files):\n",
      "\u001b[1;31mFileNotFoundError\u001b[0m: [WinError 3] 지정된 경로를 찾을 수 없습니다: 'D:\\\\data\\\\dataset\\\\train'"
     ]
    }
   ],
   "source": [
    "phase = \"train\"\n",
    "print_files_in_dir(root_dir + f\"{phase}\", phase)\n",
    "print()\n",
    "phase = \"valid\"\n",
    "print_files_in_dir(root_dir + f\"{phase}\", phase)\n",
    "print()\n",
    "# phase = \"test\"\n",
    "# print_files_in_dir(root_dir + f\"{phase}\", phase)"
   ]
  },
  {
   "attachments": {},
   "cell_type": "markdown",
   "metadata": {},
   "source": [
    "#### 데이터 전처리"
   ]
  },
  {
   "cell_type": "code",
   "execution_count": null,
   "metadata": {},
   "outputs": [],
   "source": [
    "# 필요한 모듈 불러오기\n",
    "import numpy as np\n",
    "import torch\n",
    "from torchvision import datasets, transforms\n",
    "import torch.utils.data as data"
   ]
  },
  {
   "cell_type": "code",
   "execution_count": null,
   "metadata": {},
   "outputs": [],
   "source": [
    "# 디바이스 설정 (GPU 사용 가능하면 GPU 사용하도록)\n",
    "device = torch.device(\"cuda:0\" if torch.cuda.is_available() else \"cpu\")\n",
    "\n",
    "random_seed = 2023\n",
    "\n",
    "torch.manual_seed(random_seed)\n",
    "torch.cuda.manual_seed(random_seed)\n",
    "\n",
    "np.random.seed(random_seed)\n",
    "random.seed(random_seed)\n",
    "\n",
    "torch.backends.cudnn.deterministic = True\n",
    "torch.backends.cudnn.benchmark = False"
   ]
  },
  {
   "cell_type": "code",
   "execution_count": null,
   "metadata": {},
   "outputs": [],
   "source": [
    "# 데이터 transform 적용하기\n",
    "normalize = transforms.Normalize(mean=[0,0,0], std=[1,1,1])\n",
    "image_transforms = {\n",
    "    'train': transforms.Compose([\n",
    "    transforms.Resize(256),  \n",
    "    \n",
    "    # data augmentation\n",
    "    transforms.RandomResizedCrop((224),scale=(0.5,1.0)),\n",
    "    transforms.RandomHorizontalFlip(),\n",
    "    \n",
    "    transforms.ToTensor(),\n",
    "    normalize\n",
    "    ]),\n",
    "\n",
    "    'valid': transforms.Compose([\n",
    "    transforms.Resize((224,224)),\n",
    "    transforms.ToTensor(),\n",
    "    normalize\n",
    "    ])\n",
    "}"
   ]
  },
  {
   "cell_type": "code",
   "execution_count": null,
   "metadata": {},
   "outputs": [],
   "source": [
    "train_dataset_folder = root_dir + 'train'\n",
    "val_dataset_folder = root_dir + 'valid'\n",
    "test_dataset_folder = root_dir + 'test'"
   ]
  },
  {
   "cell_type": "code",
   "execution_count": null,
   "metadata": {},
   "outputs": [],
   "source": [
    "train_dataset = datasets.ImageFolder(root=train_dataset_folder, transform=image_transforms['train'])\n",
    "valid_dataset = datasets.ImageFolder(root=val_dataset_folder, transform=image_transforms['valid'])\n",
    "test_dataset = datasets.ImageFolder(root=test_dataset_folder, transform=image_transforms['valid'])"
   ]
  },
  {
   "cell_type": "code",
   "execution_count": null,
   "metadata": {},
   "outputs": [],
   "source": [
    "# # trainning set 중 validation 데이터로 사용할 비율\n",
    "# valid_size = 0.3\n",
    "\n",
    "# # validation으로 사용할 trainning indices를 얻는다.\n",
    "# num_train = len(train_dataset)\n",
    "# indices = list(range(num_train))\n",
    "# np.random.shuffle(indices)\n",
    "# valid_dataset = int(np.floor(valid_size * num_train))"
   ]
  },
  {
   "cell_type": "code",
   "execution_count": null,
   "metadata": {},
   "outputs": [],
   "source": [
    "# DataLoader을 위한 hyperparameter 설정\n",
    "train_params = {\n",
    "    'batch_size': 64,\n",
    "    'shuffle': True,\n",
    "    'num_workers': 1,\n",
    "    'drop_last': False}\n",
    "\n",
    "valid_params = {\n",
    "    'batch_size': 64,\n",
    "    'shuffle': False,\n",
    "    'num_workers': 1,\n",
    "    'drop_last': False}"
   ]
  },
  {
   "cell_type": "code",
   "execution_count": null,
   "metadata": {},
   "outputs": [],
   "source": [
    "train_loader = data.DataLoader(train_dataset, **train_params)\n",
    "valid_loader = data.DataLoader(valid_dataset, **valid_params)\n",
    "test_loader = data.DataLoader(test_dataset, **valid_params)"
   ]
  },
  {
   "cell_type": "code",
   "execution_count": null,
   "metadata": {},
   "outputs": [],
   "source": [
    "# Train DataLoader 데이터 확인해보기\n",
    "for x, y in train_loader:\n",
    "    print(x.shape)\n",
    "    print(y.shape)\n",
    "    break"
   ]
  },
  {
   "cell_type": "code",
   "execution_count": null,
   "metadata": {},
   "outputs": [],
   "source": [
    "# Valid DataLoader 데이터 확인해보기\n",
    "for x, y in valid_loader:\n",
    "    print(x.shape)\n",
    "    print(y.shape)\n",
    "    break"
   ]
  },
  {
   "attachments": {},
   "cell_type": "markdown",
   "metadata": {},
   "source": [
    "#### 모델 만들기"
   ]
  },
  {
   "cell_type": "code",
   "execution_count": null,
   "metadata": {},
   "outputs": [],
   "source": [
    "from torchvision import models\n",
    "import torch.nn as nn\n",
    "import torch.optim as optim\n",
    "import torch.nn.functional as F"
   ]
  },
  {
   "cell_type": "code",
   "execution_count": null,
   "metadata": {},
   "outputs": [],
   "source": [
    "# 모델 설정 값\n",
    "config = {\n",
    "    # Classfier 설정\n",
    "    \"cls_hidden_dims\" : []\n",
    "    }"
   ]
  },
  {
   "cell_type": "code",
   "execution_count": null,
   "metadata": {},
   "outputs": [],
   "source": [
    "class BasicBlock(nn.Module) :\n",
    "    def __init__(self, in_channels, out_channels, downsample) :\n",
    "        super().__init__()\n",
    "        self.downsample = downsample \n",
    "        if self.downsample : \n",
    "            stride = 2 \n",
    "            self.down_skip_net = nn.Conv2d(in_channels=in_channels, \n",
    "                                           out_channels=out_channels, \n",
    "                                           kernel_size=1, \n",
    "                                           stride=stride, padding=0)\n",
    "        else : \n",
    "            stride = 1\n",
    "\n",
    "        self.conv1 = nn.Conv2d(in_channels=in_channels, \n",
    "                               out_channels=out_channels,\n",
    "                               kernel_size=3, stride=stride, padding=1)\n",
    "        self.bn1 = nn.BatchNorm2d(num_features=out_channels)\n",
    "        \n",
    "        self.conv2 = nn.Conv2d(in_channels=out_channels, \n",
    "                               out_channels=out_channels,\n",
    "                               kernel_size=3, stride=1, padding=1)\n",
    "        self.bn2 = nn.BatchNorm2d(num_features=out_channels)\n",
    "\n",
    "        self.relu = nn.ReLU()\n",
    "\n",
    "    def forward(self, x) : \n",
    "        if self.downsample : \n",
    "            skip = self.down_skip_net(x)\n",
    "        else : \n",
    "            skip = x\n",
    "        \n",
    "        x = self.conv1(x)\n",
    "        x = self.bn1(x)\n",
    "        x = self.relu(x)\n",
    "        \n",
    "        x = self.conv2(x)\n",
    "        x = self.bn2(x)\n",
    "        x = self.relu(x)\n",
    "        \n",
    "        x = x + skip \n",
    "\n",
    "        return x \n",
    "\n",
    "class ResNet18(nn.Module) :\n",
    "    def __init__(self, num_class=10):\n",
    "        super().__init__()\n",
    "        \n",
    "        # 도입부 \n",
    "        self.conv1 = nn.Conv2d(in_channels=3, out_channels=64, \n",
    "                               kernel_size=7, stride=2, padding=3)\n",
    "        self.bn = nn.BatchNorm2d(num_features=64)\n",
    "        self.relu = nn.ReLU()\n",
    "        self.maxpool = nn.MaxPool2d(kernel_size=3, stride=2, padding=1)\n",
    "\n",
    "        # 중간층 (layer1 ~ 4)\n",
    "        self.layer1 = self.make_layer(in_channels=64, out_channels=64, num_blocks=2)\n",
    "        self.layer2 = self.make_layer(in_channels=64, out_channels=128, num_blocks=2, downsample=True)\n",
    "        self.layer3 = self.make_layer(in_channels=128, out_channels=256, num_blocks=2, downsample=True)\n",
    "        self.layer4 = self.make_layer(in_channels=256, out_channels=512, num_blocks=2, downsample=True)\n",
    "        \n",
    "        # 아웃풋 \n",
    "        self.avgpool = nn.AdaptiveAvgPool2d((1,1))\n",
    "        self.fc = nn.Linear(512, num_class)\n",
    "\n",
    "    \n",
    "    def make_layer(self, in_channels, out_channels, num_blocks, downsample=False) :\n",
    "        layer = []\n",
    "        layer.append(BasicBlock(in_channels=in_channels,                                                                                                                                                                                                    \n",
    "                                out_channels=out_channels,\n",
    "                                downsample=downsample))\n",
    "        for i in range(1, num_blocks) : \n",
    "            layer.append(BasicBlock(in_channels=out_channels, \n",
    "                                    out_channels=out_channels,\n",
    "                                    downsample=False))\n",
    "        return nn.Sequential(*layer)\n",
    "        \n",
    "    def forward(self, x) : \n",
    "        batch_size = x.shape[0]\n",
    "        # 도입부 \n",
    "        x = self.conv1(x)\n",
    "        x = self.bn(x)\n",
    "        x = self.relu(x)\n",
    "        x = self.maxpool(x)\n",
    "\n",
    "        # 중간층 (layer1 ~ 4)\n",
    "        x = self.layer1(x)\n",
    "        x = self.layer2(x)\n",
    "        x = self.layer3(x)\n",
    "        x = self.layer4(x)\n",
    "\n",
    "        # 아웃풋 \n",
    "        x = self.avgpool(x)\n",
    "        x = x.view(batch_size, -1)\n",
    "        x = self.fc(x)\n",
    "        return x"
   ]
  },
  {
   "cell_type": "code",
   "execution_count": null,
   "metadata": {},
   "outputs": [],
   "source": [
    "num_classes = 10"
   ]
  },
  {
   "cell_type": "code",
   "execution_count": null,
   "metadata": {},
   "outputs": [],
   "source": [
    "class CovidResNet(nn.Module):\n",
    "    \"\"\"pretrain 된 ResNet을 이용해 CT image embedding\n",
    "    \"\"\"\n",
    "    \n",
    "    def __init__(self):\n",
    "        \"\"\"\n",
    "\t\tArgs:\n",
    "\t\t\tbase_model : resnet18 / resnet50\n",
    "\t\t\tconfig: 모델 설정 값\n",
    "\t\t\"\"\"\n",
    "        super(CovidResNet, self).__init__()\n",
    "\n",
    "        # model = models.resnet50(pretrained=True)\n",
    "        model = ResNet18(num_classes).to(device) # 모델을 지정한 device로 올려줌 \n",
    "        num_ftrs = model.fc.in_features\n",
    "        self.num_ftrs = num_ftrs\n",
    "        \n",
    "        for name, param in model.named_parameters():\n",
    "            if 'layer2' in name:\n",
    "                break\n",
    "            param.requires_grad = False\n",
    "\n",
    "        self.features = nn.Sequential(*list(model.children())[:-1])\n",
    "\n",
    "    def forward(self, x):\n",
    "        x = self.features(x)\n",
    "        b = x.size(0)\n",
    "        x = x.view(b, -1)\n",
    "\n",
    "        return x"
   ]
  },
  {
   "cell_type": "code",
   "execution_count": null,
   "metadata": {},
   "outputs": [],
   "source": [
    "model_image = CovidResNet()\n",
    "model_image"
   ]
  },
  {
   "cell_type": "code",
   "execution_count": null,
   "metadata": {},
   "outputs": [],
   "source": [
    "class Classifier(nn.Sequential):\n",
    "    \"\"\"임베딩 된 feature를 이용해 classificaion\n",
    "    \"\"\"\n",
    "    def __init__(self, model_image, **config):\n",
    "        \"\"\"\n",
    "        Args:\n",
    "            model_image : image emedding 모델\n",
    "            config: 모델 설정 값\n",
    "        \"\"\"\n",
    "        super(Classifier, self).__init__()\n",
    "\n",
    "        self.model_image = model_image # image 임베딩 모델\n",
    "\n",
    "        self.input_dim = model_image.num_ftrs # image feature 사이즈\n",
    "        self.dropout = nn.Dropout(0.1) # dropout 적용\n",
    "\n",
    "        self.hidden_dims = config['cls_hidden_dims'] # classifier hidden dimensions\n",
    "        layer_size = len(self.hidden_dims) + 1 # hidden layer 개수\n",
    "        dims = [self.input_dim] + self.hidden_dims + [2] \n",
    "\n",
    "        self.predictor = nn.ModuleList([nn.Linear(dims[i], dims[i+1]) for i in range(layer_size)]) # classifer layers \n",
    "\n",
    "    def forward(self, v):\n",
    "        # Drug/protein 임베딩\n",
    "        v_i = self.model_image(v) # batch_size x hidden_dim \n",
    "\n",
    "        for i, l in enumerate(self.predictor):\n",
    "            if i == (len(self.predictor)-1):\n",
    "                # If last layer,\n",
    "                v_i = l(v_i)\n",
    "            else:\n",
    "                # If Not last layer, dropout과 ReLU 적용\n",
    "                v_i = F.relu(self.dropout(l(v_i)))\n",
    "\n",
    "        return v_i"
   ]
  },
  {
   "cell_type": "code",
   "execution_count": null,
   "metadata": {},
   "outputs": [],
   "source": [
    "model = Classifier(model_image, **config)\n",
    "model"
   ]
  },
  {
   "attachments": {},
   "cell_type": "markdown",
   "metadata": {},
   "source": [
    "#### 모델 학습 (Model training)"
   ]
  },
  {
   "attachments": {},
   "cell_type": "markdown",
   "metadata": {},
   "source": [
    "##### 모델 학습을 위한 설정"
   ]
  },
  {
   "cell_type": "code",
   "execution_count": null,
   "metadata": {},
   "outputs": [],
   "source": []
  },
  {
   "cell_type": "code",
   "execution_count": null,
   "metadata": {},
   "outputs": [],
   "source": []
  }
 ],
 "metadata": {
  "kernelspec": {
   "display_name": "base",
   "language": "python",
   "name": "python3"
  },
  "language_info": {
   "codemirror_mode": {
    "name": "ipython",
    "version": 3
   },
   "file_extension": ".py",
   "mimetype": "text/x-python",
   "name": "python",
   "nbconvert_exporter": "python",
   "pygments_lexer": "ipython3",
   "version": "3.9.12"
  },
  "orig_nbformat": 4
 },
 "nbformat": 4,
 "nbformat_minor": 2
}
